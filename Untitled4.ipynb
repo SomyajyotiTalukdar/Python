{
 "cells": [
  {
   "cell_type": "code",
   "execution_count": 1,
   "id": "2fb980a0",
   "metadata": {},
   "outputs": [
    {
     "name": "stdout",
     "output_type": "stream",
     "text": [
      "Enter the value in kilometers: 23\n",
      "The entered value in Miles:  14.291533\n"
     ]
    }
   ],
   "source": [
    "km = int(input(\"Enter the value in kilometers: \"))\n",
    "\n",
    "\n",
    "ratio = 0.621371\n",
    "\n",
    "\n",
    "mi = km * ratio\n",
    "\n",
    "print(\"The entered value in Miles: \", mi)"
   ]
  },
  {
   "cell_type": "code",
   "execution_count": null,
   "id": "5db657d2",
   "metadata": {},
   "outputs": [],
   "source": []
  }
 ],
 "metadata": {
  "kernelspec": {
   "display_name": "Python 3",
   "language": "python",
   "name": "python3"
  },
  "language_info": {
   "codemirror_mode": {
    "name": "ipython",
    "version": 3
   },
   "file_extension": ".py",
   "mimetype": "text/x-python",
   "name": "python",
   "nbconvert_exporter": "python",
   "pygments_lexer": "ipython3",
   "version": "3.8.8"
  }
 },
 "nbformat": 4,
 "nbformat_minor": 5
}
