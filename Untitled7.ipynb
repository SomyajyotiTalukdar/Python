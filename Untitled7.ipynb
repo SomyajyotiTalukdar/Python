{
 "cells": [
  {
   "cell_type": "code",
   "execution_count": 1,
   "id": "8bbc41e5",
   "metadata": {},
   "outputs": [
    {
     "name": "stdout",
     "output_type": "stream",
     "text": [
      "Enter first number:1\n",
      "Enter second number:3\n",
      "Enter third number:2\n",
      "Second is Greater than First and Third\n"
     ]
    }
   ],
   "source": [
    "first = int(input(\"Enter first number:\"))\n",
    "second = int(input(\"Enter second number:\"))\n",
    "third = int(input(\"Enter third number:\"))\n",
    "\n",
    "if first > second and first > third:\n",
    "    print(\"First is Greater than Second and Third\")\n",
    "elif second > first and second > third:\n",
    "    print(\"Second is Greater than First and Third\")\n",
    "else:\n",
    "    print(\"Third is Greater than First and Second\")"
   ]
  },
  {
   "cell_type": "code",
   "execution_count": null,
   "id": "afb55baf",
   "metadata": {},
   "outputs": [],
   "source": []
  }
 ],
 "metadata": {
  "kernelspec": {
   "display_name": "Python 3",
   "language": "python",
   "name": "python3"
  },
  "language_info": {
   "codemirror_mode": {
    "name": "ipython",
    "version": 3
   },
   "file_extension": ".py",
   "mimetype": "text/x-python",
   "name": "python",
   "nbconvert_exporter": "python",
   "pygments_lexer": "ipython3",
   "version": "3.8.8"
  }
 },
 "nbformat": 4,
 "nbformat_minor": 5
}
