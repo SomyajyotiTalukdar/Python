{
 "cells": [
  {
   "cell_type": "code",
   "execution_count": 1,
   "id": "adaaffbe",
   "metadata": {},
   "outputs": [
    {
     "name": "stdout",
     "output_type": "stream",
     "text": [
      "Enter a number5\n",
      "The sum is 15\n"
     ]
    }
   ],
   "source": [
    "num = int(input(\"Enter a number\"))\n",
    "\n",
    "result = 0\n",
    "\n",
    "i = 0\n",
    "\n",
    "if num < 0:\n",
    "\n",
    "    print(\"Please enter a positive number\")\n",
    "\n",
    "else:\n",
    "\n",
    "        while i <= num:\n",
    "\n",
    "               result += i\n",
    "\n",
    "               i += 1\n",
    "\n",
    "        print(\"The sum is\", result)\n",
    "\n"
   ]
  },
  {
   "cell_type": "code",
   "execution_count": null,
   "id": "a86ff963",
   "metadata": {},
   "outputs": [],
   "source": []
  }
 ],
 "metadata": {
  "kernelspec": {
   "display_name": "Python 3",
   "language": "python",
   "name": "python3"
  },
  "language_info": {
   "codemirror_mode": {
    "name": "ipython",
    "version": 3
   },
   "file_extension": ".py",
   "mimetype": "text/x-python",
   "name": "python",
   "nbconvert_exporter": "python",
   "pygments_lexer": "ipython3",
   "version": "3.8.8"
  }
 },
 "nbformat": 4,
 "nbformat_minor": 5
}
