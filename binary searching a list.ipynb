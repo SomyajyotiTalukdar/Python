{
 "cells": [
  {
   "cell_type": "code",
   "execution_count": 1,
   "id": "921fc577",
   "metadata": {},
   "outputs": [
    {
     "name": "stdout",
     "output_type": "stream",
     "text": [
      "enter the number to be search4\n",
      "found at location 3\n"
     ]
    }
   ],
   "source": [
    "lst = [1,3,2,4,5,6,9,8,7,10]\n",
    "lst.sort()\n",
    "first=0\n",
    "last=len(lst)-1\n",
    "mid = (first+last)//2\n",
    "item = int(input(\"enter the number to be search\"))\n",
    "found = False\n",
    "while( first<=last and not found):\n",
    "    mid = (first + last)//2\n",
    "    if lst[mid] == item :\n",
    "         print(f\"found at location {mid}\")\n",
    "         found= True\n",
    "    else:\n",
    "        if item < lst[mid]:\n",
    "            last = mid - 1\n",
    "        else:\n",
    "            first = mid + 1 \n",
    "   \n",
    "if found == False:\n",
    "    print(\"Number not found\")"
   ]
  },
  {
   "cell_type": "code",
   "execution_count": null,
   "id": "2205479a",
   "metadata": {},
   "outputs": [],
   "source": []
  }
 ],
 "metadata": {
  "kernelspec": {
   "display_name": "Python 3",
   "language": "python",
   "name": "python3"
  },
  "language_info": {
   "codemirror_mode": {
    "name": "ipython",
    "version": 3
   },
   "file_extension": ".py",
   "mimetype": "text/x-python",
   "name": "python",
   "nbconvert_exporter": "python",
   "pygments_lexer": "ipython3",
   "version": "3.8.8"
  }
 },
 "nbformat": 4,
 "nbformat_minor": 5
}
