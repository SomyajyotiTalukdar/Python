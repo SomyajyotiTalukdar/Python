{
 "cells": [
  {
   "cell_type": "code",
   "execution_count": 1,
   "id": "ab6e0bf9",
   "metadata": {},
   "outputs": [],
   "source": [
    "class Vehicle:\n",
    "    def _init__(self,mileage,cost):\n",
    "        self.mileage=mileage\n",
    "        self.cost=cost\n",
    "        \n",
    "    def show_vehicle_details(self):\n",
    "        print(\"mileage of vehicle is:\",self.mileage)\n",
    "        print(\"cost of vehicle is:\",self.cost)\n",
    "        print(\"I am a vehicle\")\n",
    "        "
   ]
  },
  {
   "cell_type": "code",
   "execution_count": 3,
   "id": "00cf33d9",
   "metadata": {},
   "outputs": [],
   "source": [
    "v1=Vehicle()\n"
   ]
  },
  {
   "cell_type": "code",
   "execution_count": 15,
   "id": "3acc932c",
   "metadata": {},
   "outputs": [
    {
     "name": "stdout",
     "output_type": "stream",
     "text": [
      "mileage of vehicle is: 18\n",
      "cost of vehicle is: 500\n",
      "I am a vehicle\n"
     ]
    }
   ],
   "source": [
    "v1._init__(18,500) \n",
    "v1.show_vehicle_details()\n"
   ]
  },
  {
   "cell_type": "code",
   "execution_count": 23,
   "id": "5947f825",
   "metadata": {},
   "outputs": [],
   "source": [
    "class Car(Vehicle):   \n",
    "    def show_car_details(self):\n",
    "        print(\"i am car\")"
   ]
  },
  {
   "cell_type": "code",
   "execution_count": 27,
   "id": "fdf93600",
   "metadata": {},
   "outputs": [],
   "source": [
    "c1=Car() \n"
   ]
  },
  {
   "cell_type": "code",
   "execution_count": 29,
   "id": "c14ee46e",
   "metadata": {},
   "outputs": [],
   "source": [
    "c1._init__(18,500)"
   ]
  },
  {
   "cell_type": "code",
   "execution_count": 31,
   "id": "17af8e13",
   "metadata": {},
   "outputs": [
    {
     "name": "stdout",
     "output_type": "stream",
     "text": [
      "mileage of vehicle is: 18\n",
      "cost of vehicle is: 500\n",
      "I am a vehicle\n",
      "i am car\n"
     ]
    }
   ],
   "source": [
    "c1.show_vehicle_details()\n",
    "c1.show_car_details()\n"
   ]
  }
 ],
 "metadata": {
  "kernelspec": {
   "display_name": "Python 3",
   "language": "python",
   "name": "python3"
  },
  "language_info": {
   "codemirror_mode": {
    "name": "ipython",
    "version": 3
   },
   "file_extension": ".py",
   "mimetype": "text/x-python",
   "name": "python",
   "nbconvert_exporter": "python",
   "pygments_lexer": "ipython3",
   "version": "3.8.8"
  }
 },
 "nbformat": 4,
 "nbformat_minor": 5
}
