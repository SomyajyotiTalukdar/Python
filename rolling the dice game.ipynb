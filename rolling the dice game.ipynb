{
 "cells": [
  {
   "cell_type": "code",
   "execution_count": null,
   "id": "f41b0896",
   "metadata": {},
   "outputs": [
    {
     "name": "stdout",
     "output_type": "stream",
     "text": [
      " 1. roll the dice             2. exit     \n",
      "what you want to do\n",
      "1\n",
      "4\n",
      " 1. roll the dice             2. exit     \n",
      "what you want to do\n",
      "1\n",
      "4\n",
      " 1. roll the dice             2. exit     \n",
      "what you want to do\n",
      "1\n",
      "5\n",
      " 1. roll the dice             2. exit     \n",
      "what you want to do\n",
      "1\n",
      "3\n",
      " 1. roll the dice             2. exit     \n"
     ]
    }
   ],
   "source": [
    "import random \n",
    "while True:     \n",
    "     print(''' 1. roll the dice             2. exit     ''')    \n",
    "     user = int(input(\"what you want to do\\n\"))     \n",
    "     if user==1:         \n",
    "        number = random.randint(1,6)         \n",
    "        print(number)     \n",
    "     else:         \n",
    "        break"
   ]
  },
  {
   "cell_type": "code",
   "execution_count": null,
   "id": "63f6bd2e",
   "metadata": {},
   "outputs": [],
   "source": []
  }
 ],
 "metadata": {
  "kernelspec": {
   "display_name": "Python 3",
   "language": "python",
   "name": "python3"
  },
  "language_info": {
   "codemirror_mode": {
    "name": "ipython",
    "version": 3
   },
   "file_extension": ".py",
   "mimetype": "text/x-python",
   "name": "python",
   "nbconvert_exporter": "python",
   "pygments_lexer": "ipython3",
   "version": "3.8.8"
  }
 },
 "nbformat": 4,
 "nbformat_minor": 5
}
