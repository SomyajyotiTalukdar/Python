{
 "cells": [
  {
   "cell_type": "code",
   "execution_count": 1,
   "id": "64597dda",
   "metadata": {},
   "outputs": [
    {
     "name": "stdout",
     "output_type": "stream",
     "text": [
      "Enter the Number of rows : 3\n",
      "Enter the Number of Columns: 3\n",
      "Enter the elements of First Matrix:\n",
      "1\n",
      "2\n",
      "3\n",
      "4\n",
      "5\n",
      "6\n",
      "7\n",
      "8\n",
      "9\n",
      "First Matrix is: \n",
      "[1, 2, 3]\n",
      "[4, 5, 6]\n",
      "[7, 8, 9]\n",
      "Enter the elements of Second Matrix:\n",
      "0\n",
      "9\n",
      "8\n",
      "7\n",
      "6\n",
      "5\n",
      "4\n",
      "3\n",
      "2\n",
      "[0, 9, 8]\n",
      "[7, 6, 5]\n",
      "[4, 3, 2]\n",
      "The Sum of Above two Matrices is : \n",
      "[1, 11, 11]\n",
      "[11, 11, 11]\n",
      "[11, 11, 11]\n"
     ]
    }
   ],
   "source": [
    "rows = int(input(\"Enter the Number of rows : \" ))\n",
    "column = int(input(\"Enter the Number of Columns: \"))\n",
    "\n",
    "print(\"Enter the elements of First Matrix:\")\n",
    "matrix_a= [[int(input()) for i in range(column)] for i in range(rows)]\n",
    "print(\"First Matrix is: \")\n",
    "for n in matrix_a:\n",
    "    print(n)\n",
    "\n",
    "print(\"Enter the elements of Second Matrix:\")\n",
    "matrix_b= [[int(input()) for i in range(column)] for i in range(rows)]\n",
    "for n in matrix_b:\n",
    "    print(n)\n",
    "    \n",
    "result=[[0 for i in range(column)] for i in range(rows)]\n",
    "\n",
    "for i in range(rows):\n",
    "    for j in range(column):\n",
    "        result[i][j] = matrix_a[i][j]+matrix_b[i][j]\n",
    "\n",
    "print(\"The Sum of Above two Matrices is : \")\n",
    "for r in result:\n",
    "    print(r)"
   ]
  },
  {
   "cell_type": "code",
   "execution_count": null,
   "id": "05cb5656",
   "metadata": {},
   "outputs": [],
   "source": []
  }
 ],
 "metadata": {
  "kernelspec": {
   "display_name": "Python 3",
   "language": "python",
   "name": "python3"
  },
  "language_info": {
   "codemirror_mode": {
    "name": "ipython",
    "version": 3
   },
   "file_extension": ".py",
   "mimetype": "text/x-python",
   "name": "python",
   "nbconvert_exporter": "python",
   "pygments_lexer": "ipython3",
   "version": "3.8.8"
  }
 },
 "nbformat": 4,
 "nbformat_minor": 5
}
